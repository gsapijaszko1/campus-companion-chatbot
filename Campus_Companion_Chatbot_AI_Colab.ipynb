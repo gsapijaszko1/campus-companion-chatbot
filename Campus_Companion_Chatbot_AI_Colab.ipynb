{
  "cells": [
    {
      "cell_type": "markdown",
      "metadata": {},
      "source": [
        "# \ud83e\udd16 AI-Powered Campus Companion Chatbot\n",
        "\n",
        "Welcome! This notebook lets you launch a Streamlit chatbot that uses OpenAI's GPT model to answer student-related questions.\n",
        "\n",
        "## \u2705 Instructions:\n",
        "1. Run the cells below to install the required packages.\n",
        "2. Provide your OpenAI API key when the Streamlit app starts.\n",
        "3. Interact with the chatbot in a new tab."
      ]
    },
    {
      "cell_type": "code",
      "execution_count": null,
      "metadata": {},
      "outputs": [],
      "source": [
        "# Install required packages\n",
        "!pip install streamlit openai"
      ]
    },
    {
      "cell_type": "code",
      "execution_count": null,
      "metadata": {},
      "outputs": [],
      "source": [
        "# Save the chatbot script to a Python file\n",
        "code = '''\n",
        "import streamlit as st\n",
        "import openai\n",
        "\n",
        "st.set_page_config(page_title=\"AI Campus Companion Chatbot\")\n",
        "st.title(\"\ud83e\udd16 AI-Powered Campus Companion Chatbot\")\n",
        "st.write(\"Ask me anything about college life \u2014 I'm powered by GPT!\")\n",
        "\n",
        "openai_api_key = st.text_input(\"Enter your OpenAI API key:\", type=\"password\")\n",
        "user_question = st.text_input(\"Type your question here:\")\n",
        "\n",
        "def get_ai_response(prompt):\n",
        "    try:\n",
        "        response = openai.ChatCompletion.create(\n",
        "            model=\"gpt-3.5-turbo\",\n",
        "            messages=[\n",
        "                {\"role\": \"system\", \"content\": \"You are a helpful college assistant that answers questions about student life, deadlines, resources, and more.\"},\n",
        "                {\"role\": \"user\", \"content\": prompt}\n",
        "            ]\n",
        "        )\n",
        "        return response[\"choices\"][0][\"message\"][\"content\"].strip()\n",
        "    except Exception as e:\n",
        "        return f\"Error: {e}\"\n",
        "\n",
        "if user_question and openai_api_key:\n",
        "    openai.api_key = openai_api_key\n",
        "    with st.spinner(\"Thinking...\"):\n",
        "        response = get_ai_response(user_question)\n",
        "    st.markdown(f\"**You asked:** {user_question}\")\n",
        "    st.markdown(f\"**Chatbot says:** {response}\")\n",
        "elif user_question and not openai_api_key:\n",
        "    st.warning(\"Please enter your OpenAI API key to get a response.\")\n",
        "'''\n",
        "\n",
        "with open(\"campus_companion_chatbot_ai.py\", \"w\") as f:\n",
        "    f.write(code)"
      ]
    },
    {
      "cell_type": "code",
      "execution_count": null,
      "metadata": {},
      "outputs": [],
      "source": [
        "# Launch the chatbot using Streamlit\n",
        "!streamlit run campus_companion_chatbot_ai.py"
      ]
    }
  ],
  "metadata": {
    "kernelspec": {
      "display_name": "Python 3",
      "language": "python",
      "name": "python3"
    },
    "language_info": {
      "name": "python",
      "version": "3.x"
    }
  },
  "nbformat": 4,
  "nbformat_minor": 5
}